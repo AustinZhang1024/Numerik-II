{
 "cells": [
  {
   "cell_type": "markdown",
   "metadata": {},
   "source": [
    "# a"
   ]
  },
  {
   "cell_type": "code",
   "execution_count": 1,
   "metadata": {},
   "outputs": [],
   "source": [
    "import numpy as np"
   ]
  },
  {
   "cell_type": "code",
   "execution_count": 2,
   "metadata": {},
   "outputs": [],
   "source": [
    "def preconditioned_conjugate_gradient_method(\n",
    "    A_mat: np.ndarray,\n",
    "    b_vec: np.ndarray,\n",
    "    M_mat: np.ndarray,\n",
    "    x_vec: np.ndarray,\n",
    "    epsilon: np.float64,\n",
    ") -> tuple[np.ndarray, int]:\n",
    "    \"\"\"Implement of the alg 8.8 in the notes.\"\"\"\n",
    "    r = b_vec - A_mat @ x_vec\n",
    "    z = np.linalg.solve(M_mat, r)\n",
    "    p = z.copy()\n",
    "    k = 0\n",
    "    while np.sqrt(np.inner(z.flatten(), r.flatten())) > epsilon:\n",
    "        k += 1\n",
    "        s = A_mat @ p\n",
    "        v = np.inner(z.flatten(), r.flatten()) / np.inner(p.flatten(), s.flatten())\n",
    "        x_vec = x_vec + v * p\n",
    "        r_old = r.copy()\n",
    "        r = r - v * s\n",
    "        z_old = z.copy()\n",
    "        z = np.linalg.solve(M_mat, r)\n",
    "        mu = np.inner(z.flatten(), r.flatten()) / np.inner(\n",
    "            z_old.flatten(), r_old.flatten()\n",
    "        )\n",
    "        p = z + mu * p\n",
    "\n",
    "    return x_vec, k"
   ]
  },
  {
   "cell_type": "code",
   "execution_count": 3,
   "metadata": {},
   "outputs": [
    {
     "data": {
      "text/plain": [
       "array([[ 50., -25.,   0.,   0.],\n",
       "       [-25.,  50., -25.,   0.],\n",
       "       [  0., -25.,  50., -25.],\n",
       "       [  0.,   0., -25.,  50.]])"
      ]
     },
     "execution_count": 3,
     "metadata": {},
     "output_type": "execute_result"
    }
   ],
   "source": [
    "def gen_A(n: int) -> np.ndarray:\n",
    "    \"\"\"Generate the matrix A of the linear system of equations Au=b.\"\"\"\n",
    "    n = n - 1\n",
    "    A = np.zeros((n, n))\n",
    "    for i in range(n):\n",
    "        A[i, i] = 2\n",
    "        if i > 0:\n",
    "            A[i, i - 1] = -1\n",
    "        if i < n - 1:\n",
    "            A[i, i + 1] = -1\n",
    "    return A * ((n + 1) ** 2)\n",
    "\n",
    "\n",
    "gen_A(5)"
   ]
  },
  {
   "cell_type": "code",
   "execution_count": 4,
   "metadata": {},
   "outputs": [
    {
     "data": {
      "text/plain": [
       "array([[ 22.72062596],\n",
       "       [ -5.63473741],\n",
       "       [-46.57613381],\n",
       "       [ 61.75833825]])"
      ]
     },
     "execution_count": 4,
     "metadata": {},
     "output_type": "execute_result"
    }
   ],
   "source": [
    "def gen_b(n: int) -> np.ndarray:\n",
    "    \"\"\"Generate the vector b of the linear system of equations Au=b.\"\"\"\n",
    "    b = np.zeros(n - 1)\n",
    "    h = np.float64(1 / n)\n",
    "\n",
    "    def f(x: np.float64) -> np.float64:\n",
    "        \"\"\"The function f in the linear system of equations Au=p.\"\"\"\n",
    "        return -6 * np.pi * np.cos(3 * np.pi * x) + 9 * np.pi**2 * x * np.sin(\n",
    "            3 * np.pi * x\n",
    "        )\n",
    "\n",
    "    for i in range(n - 1):\n",
    "        b[i] = f((i + 1) * h)\n",
    "    return b.reshape(-1, 1)\n",
    "\n",
    "\n",
    "gen_b(5)"
   ]
  },
  {
   "cell_type": "code",
   "execution_count": 5,
   "metadata": {},
   "outputs": [
    {
     "data": {
      "text/plain": [
       "[[4, 8, 16, 32, 64, 128, 256, 513],\n",
       " [4, 8, 16, 32, 64, 128, 256, 512],\n",
       " [7, 15, 28, 49, 89, 168, 300, 467],\n",
       " [7, 11, 12, 13, 15, 16, 17, 18]]"
      ]
     },
     "metadata": {},
     "output_type": "display_data"
    }
   ],
   "source": [
    "n = [8, 16, 32, 64, 128, 256, 512, 1024]\n",
    "k_ls = [[] for _ in range(4)]\n",
    "for i in n:\n",
    "    A = gen_A(i)\n",
    "    b = gen_b(i)\n",
    "    x = np.zeros((i - 1, 1))\n",
    "    # no preconditioner\n",
    "    M = np.eye(i - 1)\n",
    "    _, k = preconditioned_conjugate_gradient_method(A, b, M, x, 1e-10)\n",
    "    k_ls[0].append(k)\n",
    "    # Jacobi Preconditioner\n",
    "    M = np.diag(np.diag(A))\n",
    "    _, k = preconditioned_conjugate_gradient_method(A, b, M, x, 1e-10)\n",
    "    k_ls[1].append(k)\n",
    "    # SSOR Preconditioner\n",
    "    L = np.tril(A)\n",
    "    D = np.diag(np.diag(A))\n",
    "    U = np.triu(A)\n",
    "    M = (D + L) @ np.linalg.inv(D) @ (D + U)\n",
    "    _, k = preconditioned_conjugate_gradient_method(A, b, M, x, 1e-10)\n",
    "    k_ls[2].append(k)\n",
    "    # L Preconditioner\n",
    "    L = np.linalg.cholesky(A)\n",
    "    M = L.T @ L\n",
    "    _, k = preconditioned_conjugate_gradient_method(A, b, M, x, 1e-10)\n",
    "    k_ls[3].append(k)\n",
    "\n",
    "display(k_ls)"
   ]
  }
 ],
 "metadata": {
  "kernelspec": {
   "display_name": "default",
   "language": "python",
   "name": "python3"
  },
  "language_info": {
   "codemirror_mode": {
    "name": "ipython",
    "version": 3
   },
   "file_extension": ".py",
   "mimetype": "text/x-python",
   "name": "python",
   "nbconvert_exporter": "python",
   "pygments_lexer": "ipython3",
   "version": "3.13.1"
  }
 },
 "nbformat": 4,
 "nbformat_minor": 2
}
