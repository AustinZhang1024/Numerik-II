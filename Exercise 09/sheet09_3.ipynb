{
 "cells": [
  {
   "cell_type": "markdown",
   "metadata": {},
   "source": [
    "# a"
   ]
  },
  {
   "cell_type": "code",
   "execution_count": 1,
   "metadata": {},
   "outputs": [],
   "source": [
    "import time\n",
    "\n",
    "import numpy as np\n",
    "from matplotlib import pyplot as plt\n",
    "from scipy.sparse.linalg import cg"
   ]
  },
  {
   "cell_type": "code",
   "execution_count": 2,
   "metadata": {},
   "outputs": [],
   "source": [
    "def conjugate_gradient_method(\n",
    "    A_mat: np.ndarray, b_vec: np.ndarray, x_vec: np.ndarray, epsilon: np.float64\n",
    ") -> tuple[np.ndarray, int]:\n",
    "    \"\"\"Implement of the alg 6.8 in the notes.\"\"\"\n",
    "    r = b_vec - A_mat @ x_vec\n",
    "    p = r.copy()\n",
    "    k = 0\n",
    "    while np.linalg.norm(r) > epsilon:\n",
    "        k += 1\n",
    "        s = A_mat @ p\n",
    "        v = (r.T @ r) / (p.T @ s)\n",
    "        x_vec = x_vec + v * p\n",
    "        r_old = r.copy()\n",
    "        r = r - v * s\n",
    "        mu = (r.T @ r) / (r_old.T @ r_old)\n",
    "        p = r + mu * p\n",
    "\n",
    "    return x_vec, k"
   ]
  },
  {
   "cell_type": "code",
   "execution_count": 3,
   "metadata": {},
   "outputs": [
    {
     "data": {
      "text/plain": [
       "array([[ 50., -25.,   0.,   0.],\n",
       "       [-25.,  50., -25.,   0.],\n",
       "       [  0., -25.,  50., -25.],\n",
       "       [  0.,   0., -25.,  50.]])"
      ]
     },
     "execution_count": 3,
     "metadata": {},
     "output_type": "execute_result"
    }
   ],
   "source": [
    "def gen_A(n: int) -> np.ndarray:\n",
    "    \"\"\"Generate the matrix A of the linear system of equations Au=b.\"\"\"\n",
    "    n = n - 1\n",
    "    A = np.zeros((n, n))\n",
    "    for i in range(n):\n",
    "        A[i, i] = 2\n",
    "        if i > 0:\n",
    "            A[i, i - 1] = -1\n",
    "        if i < n - 1:\n",
    "            A[i, i + 1] = -1\n",
    "    return A * ((n + 1) ** 2)\n",
    "\n",
    "\n",
    "gen_A(5)"
   ]
  },
  {
   "cell_type": "code",
   "execution_count": 4,
   "metadata": {},
   "outputs": [
    {
     "data": {
      "text/plain": [
       "array([[ 22.72062596],\n",
       "       [ -5.63473741],\n",
       "       [-46.57613381],\n",
       "       [ 61.75833825]])"
      ]
     },
     "execution_count": 4,
     "metadata": {},
     "output_type": "execute_result"
    }
   ],
   "source": [
    "def gen_b(n: int) -> np.ndarray:\n",
    "    \"\"\"Generate the vector b of the linear system of equations Au=b.\"\"\"\n",
    "    b = np.zeros(n - 1)\n",
    "    h = np.float64(1 / n)\n",
    "\n",
    "    def f(x: np.float64) -> np.float64:\n",
    "        \"\"\"The function f in the linear system of equations Au=p.\"\"\"\n",
    "        return -6 * np.pi * np.cos(3 * np.pi * x) + 9 * np.pi**2 * x * np.sin(\n",
    "            3 * np.pi * x\n",
    "        )\n",
    "\n",
    "    for i in range(n - 1):\n",
    "        b[i] = f((i + 1) * h)\n",
    "    return b.reshape(-1, 1)\n",
    "\n",
    "\n",
    "gen_b(5)"
   ]
  },
  {
   "cell_type": "code",
   "execution_count": 5,
   "metadata": {},
   "outputs": [
    {
     "data": {
      "text/plain": [
       "'n = 8, k = 4'"
      ]
     },
     "metadata": {},
     "output_type": "display_data"
    },
    {
     "data": {
      "text/plain": [
       "'n = 16, k = 8'"
      ]
     },
     "metadata": {},
     "output_type": "display_data"
    },
    {
     "data": {
      "text/plain": [
       "'n = 32, k = 16'"
      ]
     },
     "metadata": {},
     "output_type": "display_data"
    },
    {
     "data": {
      "text/plain": [
       "'n = 64, k = 32'"
      ]
     },
     "metadata": {},
     "output_type": "display_data"
    },
    {
     "data": {
      "text/plain": [
       "'n = 128, k = 64'"
      ]
     },
     "metadata": {},
     "output_type": "display_data"
    },
    {
     "data": {
      "text/plain": [
       "'n = 256, k = 128'"
      ]
     },
     "metadata": {},
     "output_type": "display_data"
    },
    {
     "data": {
      "image/png": "[encoded data removed]",
      "text/plain": [
       "<Figure size 640x480 with 1 Axes>"
      ]
     },
     "metadata": {},
     "output_type": "display_data"
    }
   ],
   "source": [
    "n = [8, 16, 32, 64, 128, 256]\n",
    "k_ls = []\n",
    "for i in n:\n",
    "    A = gen_A(i)\n",
    "    b = gen_b(i)\n",
    "    x = np.zeros((i - 1, 1))\n",
    "    x, k = conjugate_gradient_method(A, b, x, 1e-10)\n",
    "    display(f\"n = {i}, k = {k}\")\n",
    "    k_ls.append(k)\n",
    "\n",
    "plt.plot(np.log2(n), k_ls)\n",
    "plt.xlabel(\"-log2(h)\")\n",
    "plt.ylabel(\"k\")\n",
    "plt.title(\"k vs -log2(h)\")\n",
    "plt.savefig(\"sheet09_3_a.svg\")"
   ]
  },
  {
   "cell_type": "code",
   "execution_count": 6,
   "metadata": {},
   "outputs": [],
   "source": [
    "def scipy_cg(\n",
    "    A_mat: np.ndarray, b_vec: np.ndarray, x_vec: np.ndarray, epsilon: np.float64\n",
    ") -> tuple[np.ndarray, int]:\n",
    "    \"\"\"Decorat the scipy cg function to count the number of iterations.\"\"\"\n",
    "    iter_count = 1\n",
    "\n",
    "    def callback(_: np.ndarray) -> None:\n",
    "        nonlocal iter_count\n",
    "        iter_count += 1\n",
    "\n",
    "    x, _ = cg(A_mat, b_vec, x0=x_vec, rtol=epsilon)\n",
    "    return x, iter_count"
   ]
  },
  {
   "cell_type": "code",
   "execution_count": 7,
   "metadata": {},
   "outputs": [
    {
     "data": {
      "text/plain": [
       "'n = 8, k = 1'"
      ]
     },
     "metadata": {},
     "output_type": "display_data"
    },
    {
     "data": {
      "text/plain": [
       "'n = 16, k = 1'"
      ]
     },
     "metadata": {},
     "output_type": "display_data"
    },
    {
     "data": {
      "text/plain": [
       "'n = 32, k = 1'"
      ]
     },
     "metadata": {},
     "output_type": "display_data"
    },
    {
     "data": {
      "text/plain": [
       "'n = 64, k = 1'"
      ]
     },
     "metadata": {},
     "output_type": "display_data"
    },
    {
     "data": {
      "text/plain": [
       "'n = 128, k = 1'"
      ]
     },
     "metadata": {},
     "output_type": "display_data"
    },
    {
     "data": {
      "text/plain": [
       "'n = 256, k = 1'"
      ]
     },
     "metadata": {},
     "output_type": "display_data"
    }
   ],
   "source": [
    "n = [8, 16, 32, 64, 128, 256]\n",
    "for i in n:\n",
    "    A = gen_A(i)\n",
    "    b = gen_b(i)\n",
    "    x = np.zeros((i - 1, 1))\n",
    "    x, k = scipy_cg(A, b, x, 1e-10)\n",
    "    display(f\"n = {i}, k = {k}\")"
   ]
  },
  {
   "cell_type": "markdown",
   "metadata": {},
   "source": [
    "# c"
   ]
  },
  {
   "cell_type": "code",
   "execution_count": 8,
   "metadata": {},
   "outputs": [],
   "source": [
    "def benchmark(func: callable, iters: int = 1000) -> float:\n",
    "    \"\"\"The benchmark function to measure the runtime of the function.\"\"\"\n",
    "    start = time.time()\n",
    "    for _ in range(iters):\n",
    "        n = [8, 16, 32, 64, 128, 256]\n",
    "        for i in n:\n",
    "            A = gen_A(i)\n",
    "            b = gen_b(i)\n",
    "            x = np.zeros((i - 1, 1))\n",
    "            func(A, b, x, 1e-10)\n",
    "    end = time.time()\n",
    "    return end - start"
   ]
  },
  {
   "cell_type": "code",
   "execution_count": 9,
   "metadata": {},
   "outputs": [
    {
     "data": {
      "text/plain": [
       "'conjugate_gradient_method: 32.597339391708374'"
      ]
     },
     "metadata": {},
     "output_type": "display_data"
    },
    {
     "data": {
      "text/plain": [
       "'scipy_cg: 25.366512775421143'"
      ]
     },
     "metadata": {},
     "output_type": "display_data"
    }
   ],
   "source": [
    "time_cg = benchmark(conjugate_gradient_method)\n",
    "time_scipy_cg = benchmark(scipy_cg)\n",
    "display(f\"conjugate_gradient_method: {time_cg}\")\n",
    "display(f\"scipy_cg: {time_scipy_cg}\")"
   ]
  }
 ],
 "metadata": {
  "kernelspec": {
   "display_name": "default",
   "language": "python",
   "name": "python3"
  },
  "language_info": {
   "codemirror_mode": {
    "name": "ipython",
    "version": 3
   },
   "file_extension": ".py",
   "mimetype": "text/x-python",
   "name": "python",
   "nbconvert_exporter": "python",
   "pygments_lexer": "ipython3",
   "version": "3.13.1"
  }
 },
 "nbformat": 4,
 "nbformat_minor": 2
}
