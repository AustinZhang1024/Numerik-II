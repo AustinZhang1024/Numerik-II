{
 "cells": [
  {
   "cell_type": "code",
   "execution_count": 1,
   "metadata": {},
   "outputs": [],
   "source": [
    "import numpy as np"
   ]
  },
  {
   "cell_type": "markdown",
   "metadata": {},
   "source": [
    "Function f given by Exercise 02 Problem 3:\n",
    "$$\n",
    "    f(x) = -6\\pi\\cos(3\\pi x)+9\\pi^2 x\\sin(3\\pi x)\n",
    "$$"
   ]
  },
  {
   "cell_type": "code",
   "execution_count": 2,
   "metadata": {},
   "outputs": [],
   "source": [
    "def f(x):\n",
    "    \"\"\"the right-hand side of the differential equation\"\"\"\n",
    "    return -6 * np.pi * np.cos(3 * np.pi * x) + 9 * (np.pi**2) * x * np.sin(\n",
    "        3 * np.pi * x\n",
    "    )"
   ]
  },
  {
   "cell_type": "markdown",
   "metadata": {},
   "source": [
    "Original function:\n",
    "$$\n",
    "    u(x) = x\\sin(3\\pi x)\n",
    "$$"
   ]
  },
  {
   "cell_type": "code",
   "execution_count": 3,
   "metadata": {},
   "outputs": [],
   "source": [
    "def u(x):\n",
    "    \"\"\"the exact solution of the differential equation\"\"\"\n",
    "    return x * np.sin(3 * np.pi * x)"
   ]
  },
  {
   "cell_type": "code",
   "execution_count": 4,
   "metadata": {},
   "outputs": [],
   "source": [
    "def gen_val(n, h, a, y):\n",
    "    \"\"\"generate the values of the function y at the points x_i\"\"\"\n",
    "    y = np.zeros(n - 1)\n",
    "    for i in range(n - 1):\n",
    "        y[i] = -u(a + (i + 1) * h) * (h**2)\n",
    "    return y"
   ]
  },
  {
   "cell_type": "markdown",
   "metadata": {},
   "source": [
    "Matrix $A$:\n",
    "\n",
    "$$\n",
    "A = \\frac{1}{h^2}\n",
    "\\left(\n",
    "\\begin{matrix}\n",
    "2 & -1 & 0 &  & \\dots & & 0 \\\\\n",
    "-1 & 2 & -1 & 0 & & \\dots & 0 \\\\\n",
    "0 & -1 & 2 & -1 & 0 & \\dots & 0 \\\\\n",
    "\\vdots & \\vdots & \\vdots & \\vdots & \\vdots & \\vdots & \\vdots \\\\\n",
    "0 & \\dots & & 0 & -1 & 2 & -1 \\\\\n",
    "0 & & \\dots & & 0 & -1 & 2\n",
    "\\end{matrix}\n",
    "\\right)\n",
    "$$\n"
   ]
  },
  {
   "cell_type": "code",
   "execution_count": 5,
   "metadata": {},
   "outputs": [
    {
     "data": {
      "text/plain": [
       "array([[128., -64.,   0.,   0.,   0.,   0.,   0.],\n",
       "       [-64., 128., -64.,   0.,   0.,   0.,   0.],\n",
       "       [  0., -64., 128., -64.,   0.,   0.,   0.],\n",
       "       [  0.,   0., -64., 128., -64.,   0.,   0.],\n",
       "       [  0.,   0.,   0., -64., 128., -64.,   0.],\n",
       "       [  0.,   0.,   0.,   0., -64., 128., -64.],\n",
       "       [  0.,   0.,   0.,   0.,   0., -64., 128.]])"
      ]
     },
     "execution_count": 5,
     "metadata": {},
     "output_type": "execute_result"
    }
   ],
   "source": [
    "def gen_A(n):\n",
    "    \"\"\"generate the matrix A of the linear system of equations Au=p\"\"\"\n",
    "    n = n - 1\n",
    "    A = np.zeros((n, n))\n",
    "    for i in range(n):\n",
    "        A[i, i] = 2\n",
    "        if i > 0:\n",
    "            A[i, i - 1] = -1\n",
    "        if i < n - 1:\n",
    "            A[i, i + 1] = -1\n",
    "    return A * ((n + 1) ** 2)\n",
    "\n",
    "\n",
    "gen_A(8)"
   ]
  },
  {
   "cell_type": "markdown",
   "metadata": {},
   "source": [
    "$$\n",
    "p = \n",
    "\\left(\n",
    "\\begin{matrix}\n",
    "f_1 + \\frac{a}{h^2} \\\\\n",
    "f_2 \\\\\n",
    "\\vdots \\\\\n",
    "f_{n-1} + \\frac{b}{h^2}\n",
    "\\end{matrix}\n",
    "\\right)\n",
    "$$"
   ]
  },
  {
   "cell_type": "code",
   "execution_count": 6,
   "metadata": {},
   "outputs": [],
   "source": [
    "def gen_p(n, f, a, b):\n",
    "    \"\"\"generate the vector p of the linear system of equations Au=p\"\"\"\n",
    "    p = np.zeros((n - 1, 1))\n",
    "    p[0] = f[0] + a * (n**2)\n",
    "    for i in range(1, n - 2):\n",
    "        p[i] = f[i]\n",
    "    p[n - 2] = f[n - 2] + b * (n**2)\n",
    "    return p"
   ]
  },
  {
   "cell_type": "code",
   "execution_count": 7,
   "metadata": {},
   "outputs": [],
   "source": [
    "def gen_matrix(n, h, a, b):\n",
    "    \"\"\"\n",
    "    generate the matrix A and the vector p of the linear system of equations Au=p\n",
    "    Parameters:\n",
    "    n: number of intervals\n",
    "    h: step size\n",
    "    a: u(0)\n",
    "    b: u(1)\n",
    "    \"\"\"\n",
    "    A = gen_A(n)\n",
    "    f_ls = gen_val(n, h, a, f)\n",
    "    p = gen_p(n, f_ls, a, b)\n",
    "    return A, p"
   ]
  },
  {
   "cell_type": "code",
   "execution_count": 8,
   "metadata": {},
   "outputs": [],
   "source": [
    "def richardson(A, p, a_k, tol=1e-10, max_iter=100000):\n",
    "    \"\"\"\n",
    "    solve the linear system of equations Au=p using the Richardson iteration method\n",
    "    Parameters:\n",
    "    A: matrix A\n",
    "    p: vector p\n",
    "    tol: tolerance\n",
    "    max_iter: maximum number of iterations\n",
    "    \"\"\"\n",
    "    x = np.zeros((A.shape[0], 1))\n",
    "    for i in range(max_iter):\n",
    "        r = p - A @ x\n",
    "        if np.linalg.norm(r) < tol:\n",
    "            return x, i\n",
    "\n",
    "        x = x + a_k * r\n",
    "        if True in np.isnan(x):\n",
    "            print(\"x contains nan\", i)\n",
    "            return x, i\n",
    "    return x, i"
   ]
  },
  {
   "cell_type": "code",
   "execution_count": 9,
   "metadata": {},
   "outputs": [],
   "source": [
    "def eigenval_k(k, n):\n",
    "    \"\"\"\n",
    "    calculate the spectral radius of the matrix A\n",
    "    \"\"\"\n",
    "    return 4 * n**2 * (np.sin((np.pi * k) / (2 * n))) ** 2"
   ]
  },
  {
   "cell_type": "code",
   "execution_count": 10,
   "metadata": {},
   "outputs": [],
   "source": [
    "def eigenvals(n):\n",
    "    \"\"\"\n",
    "    calculate the eigenvalues of the matrix A\n",
    "    \"\"\"\n",
    "\n",
    "    return np.array([eigenval_k(k, n) for k in range(1, n)])"
   ]
  },
  {
   "cell_type": "code",
   "execution_count": 11,
   "metadata": {},
   "outputs": [
    {
     "name": "stdout",
     "output_type": "stream",
     "text": [
      "n: 8, omega: 0.1, iter: 1169\n",
      "n: 8, omega: 0.2, iter: 580\n",
      "n: 8, omega: 0.3, iter: 384\n",
      "n: 8, omega: 0.4, iter: 286\n",
      "n: 8, omega: 0.5, iter: 227\n",
      "n: 8, omega: 0.6, iter: 188\n",
      "n: 8, omega: 0.7, iter: 160\n",
      "n: 8, omega: 0.8, iter: 139\n",
      "n: 8, omega: 0.9, iter: 122\n",
      "n: 16, omega: 0.1, iter: 4385\n",
      "n: 16, omega: 0.2, iter: 2189\n",
      "n: 16, omega: 0.3, iter: 1456\n",
      "n: 16, omega: 0.4, iter: 1090\n",
      "n: 16, omega: 0.5, iter: 871\n",
      "n: 16, omega: 0.6, iter: 724\n",
      "n: 16, omega: 0.7, iter: 620\n",
      "n: 16, omega: 0.8, iter: 541\n",
      "n: 16, omega: 0.9, iter: 480\n"
     ]
    },
    {
     "name": "stdout",
     "output_type": "stream",
     "text": [
      "n: 32, omega: 0.1, iter: 16444\n",
      "n: 32, omega: 0.2, iter: 8218\n",
      "n: 32, omega: 0.3, iter: 5476\n",
      "n: 32, omega: 0.4, iter: 4105\n",
      "n: 32, omega: 0.5, iter: 3283\n",
      "n: 32, omega: 0.6, iter: 2734\n",
      "n: 32, omega: 0.7, iter: 2343\n"
     ]
    },
    {
     "name": "stdout",
     "output_type": "stream",
     "text": [
      "n: 32, omega: 0.8, iter: 2049\n",
      "n: 32, omega: 0.9, iter: 1820\n"
     ]
    },
    {
     "name": "stdout",
     "output_type": "stream",
     "text": [
      "n: 64, omega: 0.1, iter: 61443\n"
     ]
    },
    {
     "name": "stdout",
     "output_type": "stream",
     "text": [
      "n: 64, omega: 0.2, iter: 30718\n",
      "n: 64, omega: 0.3, iter: 20476\n"
     ]
    },
    {
     "name": "stdout",
     "output_type": "stream",
     "text": [
      "n: 64, omega: 0.4, iter: 15356\n",
      "n: 64, omega: 0.5, iter: 12283\n",
      "n: 64, omega: 0.6, iter: 10235\n"
     ]
    },
    {
     "name": "stdout",
     "output_type": "stream",
     "text": [
      "n: 64, omega: 0.7, iter: 8772\n",
      "n: 64, omega: 0.8, iter: 7674\n",
      "n: 64, omega: 0.9, iter: 6821\n"
     ]
    },
    {
     "name": "stdout",
     "output_type": "stream",
     "text": [
      "n: 128, omega: 0.1, iter: 99999\n"
     ]
    },
    {
     "name": "stdout",
     "output_type": "stream",
     "text": [
      "n: 128, omega: 0.2, iter: 99999\n"
     ]
    },
    {
     "name": "stdout",
     "output_type": "stream",
     "text": [
      "n: 128, omega: 0.3, iter: 76161\n"
     ]
    },
    {
     "name": "stdout",
     "output_type": "stream",
     "text": [
      "n: 128, omega: 0.4, iter: 57119\n"
     ]
    },
    {
     "name": "stdout",
     "output_type": "stream",
     "text": [
      "n: 128, omega: 0.5, iter: 45694\n"
     ]
    },
    {
     "name": "stdout",
     "output_type": "stream",
     "text": [
      "n: 128, omega: 0.6, iter: 38077\n"
     ]
    },
    {
     "name": "stdout",
     "output_type": "stream",
     "text": [
      "n: 128, omega: 0.7, iter: 32637\n"
     ]
    },
    {
     "name": "stdout",
     "output_type": "stream",
     "text": [
      "n: 128, omega: 0.8, iter: 28556\n"
     ]
    },
    {
     "name": "stdout",
     "output_type": "stream",
     "text": [
      "n: 128, omega: 0.9, iter: 25383\n"
     ]
    },
    {
     "name": "stdout",
     "output_type": "stream",
     "text": [
      "n: 256, omega: 0.1, iter: 99999\n"
     ]
    },
    {
     "name": "stdout",
     "output_type": "stream",
     "text": [
      "n: 256, omega: 0.2, iter: 99999\n"
     ]
    },
    {
     "name": "stdout",
     "output_type": "stream",
     "text": [
      "n: 256, omega: 0.3, iter: 99999\n"
     ]
    },
    {
     "name": "stdout",
     "output_type": "stream",
     "text": [
      "n: 256, omega: 0.4, iter: 99999\n"
     ]
    },
    {
     "name": "stdout",
     "output_type": "stream",
     "text": [
      "n: 256, omega: 0.5, iter: 99999\n"
     ]
    },
    {
     "name": "stdout",
     "output_type": "stream",
     "text": [
      "n: 256, omega: 0.6, iter: 99999\n"
     ]
    },
    {
     "name": "stdout",
     "output_type": "stream",
     "text": [
      "n: 256, omega: 0.7, iter: 99999\n"
     ]
    },
    {
     "name": "stdout",
     "output_type": "stream",
     "text": [
      "n: 256, omega: 0.8, iter: 99999\n"
     ]
    },
    {
     "name": "stdout",
     "output_type": "stream",
     "text": [
      "n: 256, omega: 0.9, iter: 93876\n"
     ]
    }
   ],
   "source": [
    "a = 0\n",
    "b = 0\n",
    "n_ls = np.array([8, 16, 32, 64, 128, 256])\n",
    "\n",
    "\n",
    "for n in n_ls:\n",
    "    A, p = gen_matrix(n, np.float32(1 / n), a, b)\n",
    "    for omega in np.linspace(0.1, 0.9, 9):\n",
    "        result = richardson(\n",
    "            A, p, omega / np.max(eigenvals(n)), tol=1e-10, max_iter=100000\n",
    "        )\n",
    "        print(f\"n: {n}, omega: {omega:.1f}, iter: {result[1]}\")"
   ]
  },
  {
   "cell_type": "code",
   "execution_count": 12,
   "metadata": {},
   "outputs": [],
   "source": [
    "data = []\n",
    "\n",
    "for n in n_ls:\n",
    "    A, p = gen_matrix(n, np.float32(1 / n), a, b)\n",
    "    for omega in np.linspace(0.1, 0.9, 9):\n",
    "        result = richardson(\n",
    "            A, p, omega / np.max(eigenvals(n)), tol=1e-10, max_iter=100000\n",
    "        )\n",
    "        data.append((n, omega, result[1]))"
   ]
  },
  {
   "cell_type": "markdown",
   "metadata": {},
   "source": [
    "To show the results, we will draw a figure."
   ]
  },
  {
   "cell_type": "code",
   "execution_count": 13,
   "metadata": {},
   "outputs": [
    {
     "data": {
      "text/plain": [
       "<matplotlib.legend.Legend at 0x19ad4d9dbe0>"
      ]
     },
     "execution_count": 13,
     "metadata": {},
     "output_type": "execute_result"
    },
    {
     "data": {
      "image/png": "[encoded data removed]",
      "text/plain": [
       "<Figure size 640x480 with 1 Axes>"
      ]
     },
     "metadata": {},
     "output_type": "display_data"
    }
   ],
   "source": [
    "from matplotlib import pyplot as plt\n",
    "\n",
    "\n",
    "for n in n_ls:\n",
    "    x = []\n",
    "    y = []\n",
    "    for d in data:\n",
    "        if d[0] == n:\n",
    "            x.append(d[1])\n",
    "            y.append(np.log(d[2]))\n",
    "\n",
    "    plt.plot(x, y, label=f\"h=1/{n}\")\n",
    "\n",
    "plt.xlabel(\"omega\")\n",
    "plt.ylabel(\"log(iterations)\")\n",
    "plt.legend(bbox_to_anchor=(1.25, 1))\n",
    "# plt.savefig(\"richardson.png\", bbox_inches=\"tight\", dpi=300)"
   ]
  }
 ],
 "metadata": {
  "kernelspec": {
   "display_name": "default",
   "language": "python",
   "name": "python3"
  },
  "language_info": {
   "codemirror_mode": {
    "name": "ipython",
    "version": 3
   },
   "file_extension": ".py",
   "mimetype": "text/x-python",
   "name": "python",
   "nbconvert_exporter": "python",
   "pygments_lexer": "ipython3",
   "version": "3.13.0"
  }
 },
 "nbformat": 4,
 "nbformat_minor": 2
}
