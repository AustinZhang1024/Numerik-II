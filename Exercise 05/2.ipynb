{
 "cells": [
  {
   "cell_type": "code",
   "execution_count": 1,
   "metadata": {},
   "outputs": [],
   "source": [
    "import numpy as np"
   ]
  },
  {
   "cell_type": "code",
   "execution_count": 2,
   "metadata": {},
   "outputs": [],
   "source": [
    "def f(x):\n",
    "    \"\"\"the right-hand side of the differential equation\"\"\"\n",
    "    return -6 * np.pi * np.cos(3 * np.pi * x) + 9 * (np.pi**2) * x * np.sin(\n",
    "        3 * np.pi * x\n",
    "    )"
   ]
  },
  {
   "cell_type": "code",
   "execution_count": 3,
   "metadata": {},
   "outputs": [],
   "source": [
    "def u(x):\n",
    "    \"\"\"the exact solution of the differential equation\"\"\"\n",
    "    return x * np.sin(3 * np.pi * x)"
   ]
  },
  {
   "cell_type": "code",
   "execution_count": 4,
   "metadata": {},
   "outputs": [],
   "source": [
    "def gen_val(n, h, a, y):\n",
    "    \"\"\"generate the values of the function y at the points x_i\"\"\"\n",
    "    y = np.zeros(n - 1)\n",
    "    for i in range(n - 1):\n",
    "        y[i] = -u(a + (i + 1) * h) * (h**2)\n",
    "    return y"
   ]
  },
  {
   "cell_type": "code",
   "execution_count": 5,
   "metadata": {},
   "outputs": [
    {
     "data": {
      "text/plain": [
       "array([[128., -64.,   0.,   0.,   0.,   0.,   0.],\n",
       "       [-64., 128., -64.,   0.,   0.,   0.,   0.],\n",
       "       [  0., -64., 128., -64.,   0.,   0.,   0.],\n",
       "       [  0.,   0., -64., 128., -64.,   0.,   0.],\n",
       "       [  0.,   0.,   0., -64., 128., -64.,   0.],\n",
       "       [  0.,   0.,   0.,   0., -64., 128., -64.],\n",
       "       [  0.,   0.,   0.,   0.,   0., -64., 128.]])"
      ]
     },
     "execution_count": 5,
     "metadata": {},
     "output_type": "execute_result"
    }
   ],
   "source": [
    "def gen_A(n):\n",
    "    \"\"\"generate the matrix A of the linear system of equations Au=p\"\"\"\n",
    "    n = n - 1\n",
    "    A = np.zeros((n, n))\n",
    "    for i in range(n):\n",
    "        A[i, i] = 2\n",
    "        if i > 0:\n",
    "            A[i, i - 1] = -1\n",
    "        if i < n - 1:\n",
    "            A[i, i + 1] = -1\n",
    "    return A * ((n + 1) ** 2)\n",
    "\n",
    "\n",
    "gen_A(8)"
   ]
  },
  {
   "cell_type": "code",
   "execution_count": 6,
   "metadata": {},
   "outputs": [],
   "source": [
    "def gen_p(n, h, f, a, b):\n",
    "    \"\"\"generate the vector p of the linear system of equations Au=p\"\"\"\n",
    "    p = np.zeros((n - 1, 1))\n",
    "    p[0] = f[0] + a * (n**2)\n",
    "    for i in range(1, n - 2):\n",
    "        p[i] = f[i]\n",
    "    p[n - 2] = f[n - 2] + b * (n**2)\n",
    "    return p"
   ]
  },
  {
   "cell_type": "code",
   "execution_count": 7,
   "metadata": {},
   "outputs": [],
   "source": [
    "def gen_matrix(n, h, a, b):\n",
    "    \"\"\"\n",
    "    generate the matrix A and the vector p of the linear system of equations Au=p\n",
    "    Parameters:\n",
    "    n: number of intervals\n",
    "    h: step size\n",
    "    a: u(0)\n",
    "    b: u(1)\n",
    "    \"\"\"\n",
    "    A = gen_A(n)\n",
    "    f_ls = gen_val(n, h, a, f)\n",
    "    p = gen_p(n, h, f_ls, a, b)\n",
    "    return A, p"
   ]
  },
  {
   "cell_type": "code",
   "execution_count": 8,
   "metadata": {},
   "outputs": [],
   "source": [
    "def richardson(A, p, a_k, tol=1e-10, max_iter=100000):\n",
    "    \"\"\"\n",
    "    solve the linear system of equations Au=p using the Richardson iteration method\n",
    "    Parameters:\n",
    "    A: matrix A\n",
    "    p: vector p\n",
    "    tol: tolerance\n",
    "    max_iter: maximum number of iterations\n",
    "    \"\"\"\n",
    "    x = np.zeros((A.shape[0], 1))\n",
    "    for i in range(max_iter):\n",
    "        r = p - A @ x\n",
    "        if np.linalg.norm(r) < tol:\n",
    "            return x, i\n",
    "\n",
    "        x = x + a_k * r\n",
    "        if True in np.isnan(x):\n",
    "            print(\"x contains nan\", i)\n",
    "            return x, i\n",
    "    return x, i"
   ]
  },
  {
   "cell_type": "code",
   "execution_count": 9,
   "metadata": {},
   "outputs": [],
   "source": [
    "def eigenval_k(k, n):\n",
    "    \"\"\"\n",
    "    calculate the spectral radius of the matrix A\n",
    "    \"\"\"\n",
    "    return 4 * n**2 * (np.sin((np.pi * k) / (2 * n))) ** 2"
   ]
  },
  {
   "cell_type": "code",
   "execution_count": 10,
   "metadata": {},
   "outputs": [],
   "source": [
    "def eigenvals(n):\n",
    "    \"\"\"\n",
    "    calculate the eigenvalues of the matrix A\n",
    "    \"\"\"\n",
    "\n",
    "    return np.array([eigenval_k(k, n) for k in range(1, n)])"
   ]
  },
  {
   "cell_type": "code",
   "execution_count": 11,
   "metadata": {},
   "outputs": [
    {
     "name": "stdout",
     "output_type": "stream",
     "text": [
      "n: 8, iter: 122\n",
      "n: 16, iter: 480\n",
      "n: 32, iter: 1820\n",
      "n: 64, iter: 6821\n",
      "n: 128, iter: 25383\n",
      "n: 256, iter: 93876\n"
     ]
    }
   ],
   "source": [
    "a = 0\n",
    "b = 0\n",
    "n_ls = np.array([8, 16, 32, 64, 128, 256])\n",
    "\n",
    "for n in n_ls:\n",
    "    A, p = gen_matrix(n, np.float32(1 / n), a, b)\n",
    "    result = richardson(A, p, 0.9 / np.max(eigenvals(n)), tol=1e-10, max_iter=100000)\n",
    "    print(f\"n: {n}, iter: {result[1]}\")\n"
   ]
  }
 ],
 "metadata": {
  "kernelspec": {
   "display_name": "default",
   "language": "python",
   "name": "python3"
  },
  "language_info": {
   "codemirror_mode": {
    "name": "ipython",
    "version": 3
   },
   "file_extension": ".py",
   "mimetype": "text/x-python",
   "name": "python",
   "nbconvert_exporter": "python",
   "pygments_lexer": "ipython3",
   "version": "3.13.0"
  }
 },
 "nbformat": 4,
 "nbformat_minor": 2
}
