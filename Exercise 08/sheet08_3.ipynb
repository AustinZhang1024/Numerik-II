{
 "cells": [
  {
   "cell_type": "code",
   "execution_count": 1,
   "metadata": {},
   "outputs": [],
   "source": [
    "import IPython\n",
    "import numpy as np\n",
    "from scipy.sparse.linalg import gmres"
   ]
  },
  {
   "cell_type": "code",
   "execution_count": 2,
   "metadata": {},
   "outputs": [],
   "source": [
    "def gen_matrix(n: int, epsilon: np.float64) -> np.ndarray:\n",
    "    \"\"\"Generate the matrix A and b of the linear system Au = b.\"\"\"\n",
    "    size = n - 1\n",
    "    A = np.zeros((size, size))\n",
    "    b = np.ones((size, 1))\n",
    "    for i in range(size):\n",
    "        A[i, i] = 2 * epsilon * (n**2) + n\n",
    "        if i > 0:\n",
    "            A[i, i - 1] = -epsilon * (n**2) - n\n",
    "        if i < size - 1:\n",
    "            A[i, i + 1] = -epsilon * (n**2)\n",
    "    return A, b"
   ]
  },
  {
   "cell_type": "code",
   "execution_count": 3,
   "metadata": {},
   "outputs": [],
   "source": [
    "def u(x: np.float64 | np.ndarray, epsilon: np.float64) -> np.ndarray:\n",
    "    \"\"\"The original function $u(x)$ of Exercise 06 Problem 3.\"\"\"\n",
    "\n",
    "    def temp_func(x: np.float64 | np.ndarray) -> np.float64 | np.ndarray:\n",
    "        return np.exp(-x / epsilon)\n",
    "\n",
    "    temp = temp_func(np.float64(1))\n",
    "\n",
    "    return np.where(\n",
    "        np.logical_or(x == 0, x == 1),\n",
    "        np.float64(0),\n",
    "        x - (temp_func(1 - x) - temp) / (1 - temp),\n",
    "    )"
   ]
  },
  {
   "cell_type": "code",
   "execution_count": 4,
   "metadata": {},
   "outputs": [],
   "source": [
    "def gen_real_val(n: int, epsilon: np.float64) -> np.ndarray:\n",
    "    \"\"\"Generate the real values of the function u(x) at the grid points.\"\"\"\n",
    "    x = np.linspace(0, 1, n + 1)\n",
    "    return u(x, epsilon)[1:-1].reshape(-1, 1)"
   ]
  },
  {
   "cell_type": "code",
   "execution_count": 5,
   "metadata": {},
   "outputs": [],
   "source": [
    "def jacobi_method(\n",
    "    A: np.ndarray, p: np.ndarray, tol: np.float64, max_iter: int\n",
    ") -> tuple[np.ndarray, int]:\n",
    "    \"\"\"Solve the linear system of equations Au=p using the Jacobi method.\"\"\"\n",
    "    D = np.diag(np.diag(A))\n",
    "    inv_D = np.linalg.inv(D)\n",
    "    x = np.zeros_like(p)\n",
    "\n",
    "    for i in range(max_iter):\n",
    "        x = np.dot(inv_D, p - np.dot(A, x)) + x\n",
    "        err = np.linalg.norm(A @ x - p)\n",
    "        if err < tol:\n",
    "            return x, i + 1\n",
    "    return x, max_iter"
   ]
  },
  {
   "cell_type": "code",
   "execution_count": 6,
   "metadata": {},
   "outputs": [],
   "source": [
    "def gauss_seidel_method(\n",
    "    A: np.ndarray, p: np.ndarray, tol: np.float64, max_iter: int\n",
    ") -> tuple[np.ndarray, int]:\n",
    "    \"\"\"Solve the linear system of equations Au=p using the Gauss Seidel method.\"\"\"\n",
    "    D = np.diag(np.diag(A))\n",
    "    L = np.tril(A, -1)\n",
    "    inv_D_plus_L = np.linalg.inv(D + L)\n",
    "    x = np.zeros_like(p)\n",
    "\n",
    "    for i in range(max_iter):\n",
    "        x = np.dot(inv_D_plus_L, p - np.dot(A, x)) + x\n",
    "        err = np.linalg.norm(A @ x - p)\n",
    "        if err < tol:\n",
    "            return x, i + 1\n",
    "    return x, max_iter"
   ]
  },
  {
   "cell_type": "code",
   "execution_count": 7,
   "metadata": {},
   "outputs": [],
   "source": [
    "def GMRES_method(\n",
    "    A: np.ndarray,\n",
    "    p: np.ndarray,\n",
    "    tol: np.float64,\n",
    "    max_iter: int,\n",
    "    restart: int | None = None,\n",
    ") -> tuple[np.ndarray, int]:\n",
    "    \"\"\"Solve the linear system of equations Au=p using the GMRES method.\"\"\"\n",
    "    iter_count = 1\n",
    "\n",
    "    def callback(_: np.ndarray) -> None:\n",
    "        nonlocal iter_count\n",
    "        iter_count += 1\n",
    "\n",
    "    # In GMRES method, restart is set to min(p.size(), restart) or min(p.size(), 20)\n",
    "    # so we set restart to a large number.\n",
    "    if restart is None:\n",
    "        restart = 1000\n",
    "\n",
    "    result, info = gmres(\n",
    "        A,\n",
    "        p,\n",
    "        rtol=0,\n",
    "        atol=float(tol),\n",
    "        restart=restart,\n",
    "        maxiter=max_iter,\n",
    "        callback=callback,\n",
    "        callback_type=\"x\",\n",
    "    )\n",
    "\n",
    "    if info != 0:\n",
    "        return result, info\n",
    "    return result, iter_count"
   ]
  },
  {
   "cell_type": "code",
   "execution_count": 8,
   "metadata": {},
   "outputs": [],
   "source": [
    "max_iter = 10000\n",
    "tol = np.float64(1e-10)\n",
    "\n",
    "n = 256\n",
    "\n",
    "restarts = [5, 10, 20, 30, 40, 50]\n",
    "\n",
    "epsilons = np.array([10**-i for i in [0, 2, 4, 6]])"
   ]
  },
  {
   "cell_type": "code",
   "execution_count": 9,
   "metadata": {},
   "outputs": [
    {
     "data": {
      "text/plain": [
       "'Jacobi method: epsilon = 1.0, iterations = 10000'"
      ]
     },
     "metadata": {},
     "output_type": "display_data"
    },
    {
     "data": {
      "text/plain": [
       "'Jacobi method: epsilon = 0.01, iterations = 3956'"
      ]
     },
     "metadata": {},
     "output_type": "display_data"
    },
    {
     "data": {
      "text/plain": [
       "'Jacobi method: epsilon = 0.0001, iterations = 316'"
      ]
     },
     "metadata": {},
     "output_type": "display_data"
    },
    {
     "data": {
      "text/plain": [
       "'Jacobi method: epsilon = 1e-06, iterations = 267'"
      ]
     },
     "metadata": {},
     "output_type": "display_data"
    }
   ],
   "source": [
    "for epsilon in epsilons:\n",
    "    x_real = gen_real_val(n, epsilon)\n",
    "    A, p = gen_matrix(n, epsilon)\n",
    "    i = jacobi_method(A, p, tol, max_iter)\n",
    "    display(f\"Jacobi method: epsilon = {epsilon}, iterations = {i[1]}\")"
   ]
  },
  {
   "cell_type": "code",
   "execution_count": 10,
   "metadata": {},
   "outputs": [
    {
     "data": {
      "text/plain": [
       "'Gauss Seidel method: epsilon = 1.0, iterations = 10000'"
      ]
     },
     "metadata": {},
     "output_type": "display_data"
    },
    {
     "data": {
      "text/plain": [
       "'Gauss Seidel method: epsilon = 0.01, iterations = 1856'"
      ]
     },
     "metadata": {},
     "output_type": "display_data"
    },
    {
     "data": {
      "text/plain": [
       "'Gauss Seidel method: epsilon = 0.0001, iterations = 32'"
      ]
     },
     "metadata": {},
     "output_type": "display_data"
    },
    {
     "data": {
      "text/plain": [
       "'Gauss Seidel method: epsilon = 1e-06, iterations = 7'"
      ]
     },
     "metadata": {},
     "output_type": "display_data"
    }
   ],
   "source": [
    "for epsilon in epsilons:\n",
    "    x_real = gen_real_val(n, epsilon)\n",
    "    A, p = gen_matrix(n, epsilon)\n",
    "    i = gauss_seidel_method(A, p, tol, max_iter)\n",
    "    IPython.display.display(\n",
    "        f\"Gauss Seidel method: epsilon = {epsilon}, iterations = {i[1]}\"\n",
    "    )"
   ]
  },
  {
   "cell_type": "code",
   "execution_count": 11,
   "metadata": {},
   "outputs": [
    {
     "data": {
      "text/plain": [
       "'GMRES method: epsilon = 1.0, iterations = 3'"
      ]
     },
     "metadata": {},
     "output_type": "display_data"
    },
    {
     "data": {
      "text/plain": [
       "'GMRES method: epsilon = 0.01, iterations = 2'"
      ]
     },
     "metadata": {},
     "output_type": "display_data"
    },
    {
     "data": {
      "text/plain": [
       "'GMRES method: epsilon = 0.0001, iterations = 2'"
      ]
     },
     "metadata": {},
     "output_type": "display_data"
    },
    {
     "data": {
      "text/plain": [
       "'GMRES method: epsilon = 1e-06, iterations = 2'"
      ]
     },
     "metadata": {},
     "output_type": "display_data"
    }
   ],
   "source": [
    "for epsilon in epsilons:\n",
    "    x_real = gen_real_val(n, epsilon)\n",
    "    A, p = gen_matrix(n, epsilon)\n",
    "    i = GMRES_method(A, p, tol, max_iter)\n",
    "    IPython.display.display(f\"GMRES method: epsilon = {epsilon}, iterations = {i[1]}\")"
   ]
  },
  {
   "cell_type": "code",
   "execution_count": 12,
   "metadata": {},
   "outputs": [
    {
     "data": {
      "text/plain": [
       "'GMRES method with restart = 5: epsilon = 1.0, iterations = 10000'"
      ]
     },
     "metadata": {},
     "output_type": "display_data"
    },
    {
     "data": {
      "text/plain": [
       "'GMRES method with restart = 5: epsilon = 0.01, iterations = 125'"
      ]
     },
     "metadata": {},
     "output_type": "display_data"
    },
    {
     "data": {
      "text/plain": [
       "'GMRES method with restart = 5: epsilon = 0.0001, iterations = 63'"
      ]
     },
     "metadata": {},
     "output_type": "display_data"
    },
    {
     "data": {
      "text/plain": [
       "'GMRES method with restart = 5: epsilon = 1e-06, iterations = 58'"
      ]
     },
     "metadata": {},
     "output_type": "display_data"
    },
    {
     "data": {
      "text/plain": [
       "'GMRES method with restart = 10: epsilon = 1.0, iterations = 3093'"
      ]
     },
     "metadata": {},
     "output_type": "display_data"
    },
    {
     "data": {
      "text/plain": [
       "'GMRES method with restart = 10: epsilon = 0.01, iterations = 52'"
      ]
     },
     "metadata": {},
     "output_type": "display_data"
    },
    {
     "data": {
      "text/plain": [
       "'GMRES method with restart = 10: epsilon = 0.0001, iterations = 37'"
      ]
     },
     "metadata": {},
     "output_type": "display_data"
    },
    {
     "data": {
      "text/plain": [
       "'GMRES method with restart = 10: epsilon = 1e-06, iterations = 32'"
      ]
     },
     "metadata": {},
     "output_type": "display_data"
    },
    {
     "data": {
      "text/plain": [
       "'GMRES method with restart = 20: epsilon = 1.0, iterations = 751'"
      ]
     },
     "metadata": {},
     "output_type": "display_data"
    },
    {
     "data": {
      "text/plain": [
       "'GMRES method with restart = 20: epsilon = 0.01, iterations = 26'"
      ]
     },
     "metadata": {},
     "output_type": "display_data"
    },
    {
     "data": {
      "text/plain": [
       "'GMRES method with restart = 20: epsilon = 0.0001, iterations = 26'"
      ]
     },
     "metadata": {},
     "output_type": "display_data"
    },
    {
     "data": {
      "text/plain": [
       "'GMRES method with restart = 20: epsilon = 1e-06, iterations = 18'"
      ]
     },
     "metadata": {},
     "output_type": "display_data"
    },
    {
     "data": {
      "text/plain": [
       "'GMRES method with restart = 30: epsilon = 1.0, iterations = 346'"
      ]
     },
     "metadata": {},
     "output_type": "display_data"
    },
    {
     "data": {
      "text/plain": [
       "'GMRES method with restart = 30: epsilon = 0.01, iterations = 21'"
      ]
     },
     "metadata": {},
     "output_type": "display_data"
    },
    {
     "data": {
      "text/plain": [
       "'GMRES method with restart = 30: epsilon = 0.0001, iterations = 20'"
      ]
     },
     "metadata": {},
     "output_type": "display_data"
    },
    {
     "data": {
      "text/plain": [
       "'GMRES method with restart = 30: epsilon = 1e-06, iterations = 14'"
      ]
     },
     "metadata": {},
     "output_type": "display_data"
    },
    {
     "data": {
      "text/plain": [
       "'GMRES method with restart = 40: epsilon = 1.0, iterations = 195'"
      ]
     },
     "metadata": {},
     "output_type": "display_data"
    },
    {
     "data": {
      "text/plain": [
       "'GMRES method with restart = 40: epsilon = 0.01, iterations = 19'"
      ]
     },
     "metadata": {},
     "output_type": "display_data"
    },
    {
     "data": {
      "text/plain": [
       "'GMRES method with restart = 40: epsilon = 0.0001, iterations = 16'"
      ]
     },
     "metadata": {},
     "output_type": "display_data"
    },
    {
     "data": {
      "text/plain": [
       "'GMRES method with restart = 40: epsilon = 1e-06, iterations = 11'"
      ]
     },
     "metadata": {},
     "output_type": "display_data"
    },
    {
     "data": {
      "text/plain": [
       "'GMRES method with restart = 50: epsilon = 1.0, iterations = 114'"
      ]
     },
     "metadata": {},
     "output_type": "display_data"
    },
    {
     "data": {
      "text/plain": [
       "'GMRES method with restart = 50: epsilon = 0.01, iterations = 19'"
      ]
     },
     "metadata": {},
     "output_type": "display_data"
    },
    {
     "data": {
      "text/plain": [
       "'GMRES method with restart = 50: epsilon = 0.0001, iterations = 16'"
      ]
     },
     "metadata": {},
     "output_type": "display_data"
    },
    {
     "data": {
      "text/plain": [
       "'GMRES method with restart = 50: epsilon = 1e-06, iterations = 10'"
      ]
     },
     "metadata": {},
     "output_type": "display_data"
    }
   ],
   "source": [
    "for restart in restarts:\n",
    "    for epsilon in epsilons:\n",
    "        x_real = gen_real_val(n, epsilon)\n",
    "        A, p = gen_matrix(n, epsilon)\n",
    "        i = GMRES_method(A, p, tol, max_iter, restart=restart)\n",
    "        IPython.display.display(\n",
    "            f\"GMRES method with restart = {restart}: \"\n",
    "            f\"epsilon = {epsilon}, iterations = {i[1]}\"\n",
    "        )"
   ]
  }
 ],
 "metadata": {
  "kernelspec": {
   "display_name": "default",
   "language": "python",
   "name": "python3"
  },
  "language_info": {
   "codemirror_mode": {
    "name": "ipython",
    "version": 3
   },
   "file_extension": ".py",
   "mimetype": "text/x-python",
   "name": "python",
   "nbconvert_exporter": "python",
   "pygments_lexer": "ipython3",
   "version": "3.13.1"
  }
 },
 "nbformat": 4,
 "nbformat_minor": 2
}
