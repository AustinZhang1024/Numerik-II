{
 "cells": [
  {
   "cell_type": "code",
   "execution_count": 1,
   "metadata": {
    "execution": {
     "iopub.execute_input": "2024-11-29T18:53:59.824461Z",
     "iopub.status.busy": "2024-11-29T18:53:59.824183Z",
     "iopub.status.idle": "2024-11-29T18:54:00.191244Z",
     "shell.execute_reply": "2024-11-29T18:54:00.190608Z"
    }
   },
   "outputs": [],
   "source": [
    "import numpy as np\n",
    "import matplotlib.pyplot as plt"
   ]
  },
  {
   "cell_type": "code",
   "execution_count": 2,
   "metadata": {
    "execution": {
     "iopub.execute_input": "2024-11-29T18:54:00.194302Z",
     "iopub.status.busy": "2024-11-29T18:54:00.193931Z",
     "iopub.status.idle": "2024-11-29T18:54:00.202169Z",
     "shell.execute_reply": "2024-11-29T18:54:00.201465Z"
    }
   },
   "outputs": [
    {
     "data": {
      "text/plain": [
       "array([0.        , 0.12245933, 0.        ])"
      ]
     },
     "execution_count": 2,
     "metadata": {},
     "output_type": "execute_result"
    }
   ],
   "source": [
    "def u(x: np.float64 | np.ndarray, epsilon: np.float64) -> np.ndarray:\n",
    "    \"\"\"The original function u(x) of Exercise 06 Problem 3\"\"\"\n",
    "    def temp_func(x: np.float64 | np.ndarray) -> np.float64 | np.ndarray:\n",
    "        return np.exp(-x / epsilon)\n",
    "\n",
    "    temp = temp_func(np.float64(1))\n",
    "\n",
    "    return np.where(\n",
    "        np.logical_or(x == 0, x == 1),\n",
    "        np.float64(0),\n",
    "        x - (temp_func(1 - x) - temp) / (1 - temp),\n",
    "    )\n",
    "\n",
    "\n",
    "u(np.array([0, 0.5, 1]), np.float64(1))"
   ]
  },
  {
   "cell_type": "code",
   "execution_count": 3,
   "metadata": {
    "execution": {
     "iopub.execute_input": "2024-11-29T18:54:00.233491Z",
     "iopub.status.busy": "2024-11-29T18:54:00.233223Z",
     "iopub.status.idle": "2024-11-29T18:54:00.238802Z",
     "shell.execute_reply": "2024-11-29T18:54:00.238353Z"
    }
   },
   "outputs": [
    {
     "data": {
      "text/plain": [
       "array([[ 50., -25.,   0.,   0.],\n",
       "       [-25.,  50., -25.,   0.],\n",
       "       [  0., -25.,  50., -25.],\n",
       "       [  0.,   0., -25.,  50.]])"
      ]
     },
     "execution_count": 3,
     "metadata": {},
     "output_type": "execute_result"
    }
   ],
   "source": [
    "def gen_A(n: int) -> np.ndarray:\n",
    "    \"\"\"generate the matrix A of the linear system of equations Au=p\"\"\"\n",
    "    n = n - 1\n",
    "    A = np.zeros((n, n))\n",
    "    for i in range(n):\n",
    "        A[i, i] = 2\n",
    "        if i > 0:\n",
    "            A[i, i - 1] = -1\n",
    "        if i < n - 1:\n",
    "            A[i, i + 1] = -1\n",
    "    return A * ((n + 1) ** 2)\n",
    "\n",
    "\n",
    "gen_A(5)"
   ]
  },
  {
   "cell_type": "markdown",
   "metadata": {},
   "source": [
    "$$\n",
    "u''(x) = f(x) = \\frac{u'(x) -1}{\\epsilon}\n",
    "$$"
   ]
  },
  {
   "cell_type": "code",
   "execution_count": 4,
   "metadata": {
    "execution": {
     "iopub.execute_input": "2024-11-29T18:54:00.240990Z",
     "iopub.status.busy": "2024-11-29T18:54:00.240749Z",
     "iopub.status.idle": "2024-11-29T18:54:00.243764Z",
     "shell.execute_reply": "2024-11-29T18:54:00.243353Z"
    }
   },
   "outputs": [],
   "source": [
    "def f(x: np.float64 | np.ndarray, epsilon: np.float64, h):\n",
    "    \"\"\"the right-hand side of the differential equation\"\"\"\n",
    "    return ((u(x, epsilon) - u(x - h, epsilon)) / h - 1) / epsilon"
   ]
  },
  {
   "cell_type": "code",
   "execution_count": 5,
   "metadata": {
    "execution": {
     "iopub.execute_input": "2024-11-29T18:54:00.245809Z",
     "iopub.status.busy": "2024-11-29T18:54:00.245581Z",
     "iopub.status.idle": "2024-11-29T18:54:00.248636Z",
     "shell.execute_reply": "2024-11-29T18:54:00.248213Z"
    }
   },
   "outputs": [],
   "source": [
    "def gen_real_val(\n",
    "    n: int,\n",
    "    h,\n",
    "    a,\n",
    "    epsilon: np.float64,\n",
    ") -> np.ndarray:\n",
    "    \"\"\"generate the values of the function u at the points x_i shape (n-1, 1)\"\"\"\n",
    "    y = np.zeros(n - 1)\n",
    "    for i in range(n - 1):\n",
    "        y[i] = -u(a + (i + 1) * h, epsilon) * (h**2)\n",
    "    return y.reshape((n - 1, 1))"
   ]
  },
  {
   "cell_type": "code",
   "execution_count": 6,
   "metadata": {
    "execution": {
     "iopub.execute_input": "2024-11-29T18:54:00.250685Z",
     "iopub.status.busy": "2024-11-29T18:54:00.250479Z",
     "iopub.status.idle": "2024-11-29T18:54:00.254137Z",
     "shell.execute_reply": "2024-11-29T18:54:00.253717Z"
    }
   },
   "outputs": [],
   "source": [
    "def gen_est_val(\n",
    "    n: int,\n",
    "    h,\n",
    "    a,\n",
    "    epsilon: np.float64,\n",
    ") -> np.ndarray:\n",
    "    \"\"\"generate the values of the function f at the points x_i shape (1, n-1)\"\"\"\n",
    "    y = np.zeros(n - 1)\n",
    "    for i in range(n - 1):\n",
    "        y[i] = -f(a + (i + 1) * h, epsilon, h) * (h**2)\n",
    "    return y"
   ]
  },
  {
   "cell_type": "code",
   "execution_count": 7,
   "metadata": {
    "execution": {
     "iopub.execute_input": "2024-11-29T18:54:00.256181Z",
     "iopub.status.busy": "2024-11-29T18:54:00.255987Z",
     "iopub.status.idle": "2024-11-29T18:54:00.259228Z",
     "shell.execute_reply": "2024-11-29T18:54:00.258802Z"
    }
   },
   "outputs": [],
   "source": [
    "def gen_p(n: int, f_ls: np.ndarray, a, b)-> np.ndarray:\n",
    "    \"\"\"generate the vector p of the linear system of equations Au=p\"\"\"\n",
    "    p = np.zeros((n - 1, 1))\n",
    "    p[0] = f_ls[0] + a * (n**2)\n",
    "    for i in range(1, n - 2):\n",
    "        p[i] = f_ls[i]\n",
    "    p[n - 2] = f_ls[n - 2] + b * (n**2)\n",
    "    return p.reshape(n-1,1)"
   ]
  },
  {
   "cell_type": "code",
   "execution_count": 8,
   "metadata": {
    "execution": {
     "iopub.execute_input": "2024-11-29T18:54:00.261523Z",
     "iopub.status.busy": "2024-11-29T18:54:00.261271Z",
     "iopub.status.idle": "2024-11-29T18:54:00.264220Z",
     "shell.execute_reply": "2024-11-29T18:54:00.263812Z"
    }
   },
   "outputs": [],
   "source": [
    "def gen_matrix(n, h, a, b, epsilon):\n",
    "    \"\"\"\n",
    "    generate the matrix A and the vector p of the linear system of equations Au=p\n",
    "    Parameters:\n",
    "    n: number of intervals\n",
    "    h: step size\n",
    "    a: u(0)\n",
    "    b: u(1)\n",
    "    \"\"\"\n",
    "    A = gen_A(n)\n",
    "    f_ls = gen_est_val(n, h, a, epsilon)\n",
    "    p = gen_p(n, f_ls, a, b)\n",
    "    return A, p"
   ]
  },
  {
   "cell_type": "code",
   "execution_count": 9,
   "metadata": {
    "execution": {
     "iopub.execute_input": "2024-11-29T18:54:00.266233Z",
     "iopub.status.busy": "2024-11-29T18:54:00.266023Z",
     "iopub.status.idle": "2024-11-29T18:54:00.269251Z",
     "shell.execute_reply": "2024-11-29T18:54:00.268787Z"
    }
   },
   "outputs": [],
   "source": [
    "def solve(\n",
    "    n: int, h: np.float64, a: np.float64, b: np.float64, epsilon: np.float64\n",
    ") -> np.ndarray:\n",
    "    \"\"\"\n",
    "    solve the linear system of equations Au=p\n",
    "    Parameters:\n",
    "    n: number of intervals\n",
    "    h: step size\n",
    "    a: u(0)\n",
    "    b: u(1)\n",
    "    \"\"\"\n",
    "    A, p = gen_matrix(n, h, a, b, epsilon)\n",
    "\n",
    "    assert A.shape == (n - 1, n - 1)\n",
    "    assert p.shape == (n - 1, 1)\n",
    "\n",
    "    return np.linalg.solve(A, p)"
   ]
  },
  {
   "cell_type": "code",
   "execution_count": 10,
   "metadata": {
    "execution": {
     "iopub.execute_input": "2024-11-29T18:54:00.271191Z",
     "iopub.status.busy": "2024-11-29T18:54:00.270976Z",
     "iopub.status.idle": "2024-11-29T18:54:00.274283Z",
     "shell.execute_reply": "2024-11-29T18:54:00.273846Z"
    }
   },
   "outputs": [],
   "source": [
    "def gen_error(n, h, a, b, epsilon):\n",
    "    \"\"\"\n",
    "    generate the error of the solution\n",
    "    Parameters:\n",
    "    n: number of intervals\n",
    "    h: step size\n",
    "    a: u(0)\n",
    "    b: u(1)\n",
    "    \"\"\"\n",
    "    y_est = solve(n, h, a, b, epsilon)\n",
    "    y_real = gen_real_val(n, h, a, epsilon)\n",
    "\n",
    "    assert y_est.shape == y_real.shape\n",
    "\n",
    "    err = np.sqrt(np.sum((y_real-y_est)**2) / (n-1))\n",
    "    return err"
   ]
  },
  {
   "cell_type": "code",
   "execution_count": 11,
   "metadata": {
    "execution": {
     "iopub.execute_input": "2024-11-29T18:54:00.276341Z",
     "iopub.status.busy": "2024-11-29T18:54:00.276131Z",
     "iopub.status.idle": "2024-11-29T18:54:00.818887Z",
     "shell.execute_reply": "2024-11-29T18:54:00.818268Z"
    }
   },
   "outputs": [
    {
     "data": {
      "image/png": "[encoded data removed]",
      "text/plain": [
       "<Figure size 640x480 with 1 Axes>"
      ]
     },
     "metadata": {},
     "output_type": "display_data"
    }
   ],
   "source": [
    "a = np.float64(0)\n",
    "b = np.float64(0)\n",
    "\n",
    "n_ls = [8, 16, 32, 64, 128, 256]\n",
    "\n",
    "epsilons = np.array([10**-i for i in [0, 2, 4, 6]])\n",
    "\n",
    "for n in n_ls:\n",
    "    h = np.float64(1 / n)\n",
    "    errs = [gen_error(n, h, a, b, epsilon) for epsilon in epsilons]\n",
    "\n",
    "    plt.plot([0, 2, 4, 6], np.log(errs), label=f\"$n = {n}$\")\n",
    "\n",
    "plt.xlabel(r\"$-\\log_{10}(\\epsilon)$\")\n",
    "plt.xticks([0, 2, 4, 6])\n",
    "plt.ylabel(r\"$\\log\\text{Error}$\")\n",
    "plt.legend()\n",
    "\n",
    "plt.savefig(\"3_c.png\", dpi=300)"
   ]
  },
  {
   "cell_type": "code",
   "execution_count": 12,
   "metadata": {
    "execution": {
     "iopub.execute_input": "2024-11-29T18:54:00.821104Z",
     "iopub.status.busy": "2024-11-29T18:54:00.820899Z",
     "iopub.status.idle": "2024-11-29T18:54:00.957828Z",
     "shell.execute_reply": "2024-11-29T18:54:00.956965Z"
    }
   },
   "outputs": [],
   "source": [
    "from scipy.sparse.linalg import gmres"
   ]
  }
 ],
 "metadata": {
  "kernelspec": {
   "display_name": "default",
   "language": "python",
   "name": "python3"
  },
  "language_info": {
   "codemirror_mode": {
    "name": "ipython",
    "version": 3
   },
   "file_extension": ".py",
   "mimetype": "text/x-python",
   "name": "python",
   "nbconvert_exporter": "python",
   "pygments_lexer": "ipython3",
   "version": "3.13.0"
  }
 },
 "nbformat": 4,
 "nbformat_minor": 2
}
